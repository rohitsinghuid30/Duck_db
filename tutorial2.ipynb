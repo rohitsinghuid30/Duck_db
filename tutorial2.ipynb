{
 "cells": [
  {
   "cell_type": "code",
   "execution_count": 1,
   "metadata": {},
   "outputs": [],
   "source": [
    "import duckdb\n",
    "import pandas as pd"
   ]
  },
  {
   "cell_type": "code",
   "execution_count": 2,
   "metadata": {},
   "outputs": [
    {
     "ename": "CatalogException",
     "evalue": "Catalog Error: Table with name \"test\" already exists!",
     "output_type": "error",
     "traceback": [
      "\u001b[1;31m---------------------------------------------------------------------------\u001b[0m",
      "\u001b[1;31mCatalogException\u001b[0m                          Traceback (most recent call last)",
      "Cell \u001b[1;32mIn[2], line 2\u001b[0m\n\u001b[0;32m      1\u001b[0m con \u001b[38;5;241m=\u001b[39m duckdb\u001b[38;5;241m.\u001b[39mconnect(\u001b[38;5;124m\"\u001b[39m\u001b[38;5;124m./src/db/files.db\u001b[39m\u001b[38;5;124m\"\u001b[39m)\n\u001b[1;32m----> 2\u001b[0m \u001b[43mcon\u001b[49m\u001b[38;5;241;43m.\u001b[39;49m\u001b[43msql\u001b[49m\u001b[43m(\u001b[49m\u001b[38;5;124;43m\"\u001b[39;49m\u001b[38;5;124;43mCREATE TABLE test (i INTEGER)\u001b[39;49m\u001b[38;5;124;43m\"\u001b[39;49m\u001b[43m)\u001b[49m\n\u001b[0;32m      3\u001b[0m con\u001b[38;5;241m.\u001b[39msql(\u001b[38;5;124m\"\u001b[39m\u001b[38;5;124mINSERT INTO test VALUES(42)\u001b[39m\u001b[38;5;124m\"\u001b[39m)\n\u001b[0;32m      4\u001b[0m con\u001b[38;5;241m.\u001b[39mtable(\u001b[38;5;124m\"\u001b[39m\u001b[38;5;124mtest\u001b[39m\u001b[38;5;124m\"\u001b[39m)\u001b[38;5;241m.\u001b[39mshow()\n",
      "\u001b[1;31mCatalogException\u001b[0m: Catalog Error: Table with name \"test\" already exists!"
     ]
    }
   ],
   "source": [
    "con = duckdb.connect(\"./src/db/files.db\")\n",
    "con.sql(\"CREATE TABLE test (i INTEGER)\")\n",
    "con.sql(\"INSERT INTO test VALUES(42)\")\n",
    "con.table(\"test\").show()\n",
    "con.close()"
   ]
  },
  {
   "cell_type": "code",
   "execution_count": 3,
   "metadata": {},
   "outputs": [
    {
     "ename": "CatalogException",
     "evalue": "Catalog Error: Table with name \"test2\" already exists!",
     "output_type": "error",
     "traceback": [
      "\u001b[1;31m---------------------------------------------------------------------------\u001b[0m",
      "\u001b[1;31mCatalogException\u001b[0m                          Traceback (most recent call last)",
      "Cell \u001b[1;32mIn[3], line 1\u001b[0m\n\u001b[1;32m----> 1\u001b[0m \u001b[43mcon\u001b[49m\u001b[38;5;241;43m.\u001b[39;49m\u001b[43msql\u001b[49m\u001b[43m(\u001b[49m\u001b[38;5;124;43m\"\u001b[39;49m\u001b[38;5;124;43mCREATE TABLE test2 (i INTEGER, name varchar(100), dept varchar(250))\u001b[39;49m\u001b[38;5;124;43m\"\u001b[39;49m\u001b[43m)\u001b[49m\n\u001b[0;32m      2\u001b[0m con\u001b[38;5;241m.\u001b[39msql(\u001b[38;5;124m\"\u001b[39m\u001b[38;5;124mINSERT INTO test2 VALUES(1, \u001b[39m\u001b[38;5;124m'\u001b[39m\u001b[38;5;124mrohit\u001b[39m\u001b[38;5;124m'\u001b[39m\u001b[38;5;124m, \u001b[39m\u001b[38;5;124m'\u001b[39m\u001b[38;5;124mIT\u001b[39m\u001b[38;5;124m'\u001b[39m\u001b[38;5;124m)\u001b[39m\u001b[38;5;124m\"\u001b[39m)\n\u001b[0;32m      3\u001b[0m con\u001b[38;5;241m.\u001b[39mtable(\u001b[38;5;124m\"\u001b[39m\u001b[38;5;124mtest2\u001b[39m\u001b[38;5;124m\"\u001b[39m)\u001b[38;5;241m.\u001b[39mshow()\n",
      "\u001b[1;31mCatalogException\u001b[0m: Catalog Error: Table with name \"test2\" already exists!"
     ]
    }
   ],
   "source": [
    "con.sql(\"CREATE TABLE test2 (i INTEGER, name varchar(100), dept varchar(250))\")\n",
    "con.sql(\"INSERT INTO test2 VALUES(1, 'rohit', 'IT')\")\n",
    "con.table(\"test2\").show()\n",
    "con.close()"
   ]
  },
  {
   "cell_type": "code",
   "execution_count": 4,
   "metadata": {},
   "outputs": [
    {
     "ename": "CatalogException",
     "evalue": "Catalog Error: Table with name \"test2\" already exists!",
     "output_type": "error",
     "traceback": [
      "\u001b[1;31m---------------------------------------------------------------------------\u001b[0m",
      "\u001b[1;31mCatalogException\u001b[0m                          Traceback (most recent call last)",
      "Cell \u001b[1;32mIn[4], line 2\u001b[0m\n\u001b[0;32m      1\u001b[0m con \u001b[38;5;241m=\u001b[39m duckdb\u001b[38;5;241m.\u001b[39mconnect(\u001b[38;5;124m\"\u001b[39m\u001b[38;5;124m./src/db/files.db\u001b[39m\u001b[38;5;124m\"\u001b[39m)\n\u001b[1;32m----> 2\u001b[0m \u001b[43mcon\u001b[49m\u001b[38;5;241;43m.\u001b[39;49m\u001b[43msql\u001b[49m\u001b[43m(\u001b[49m\u001b[38;5;124;43m\"\u001b[39;49m\u001b[38;5;124;43mCREATE TABLE test2 (i INTEGER, name varchar(100), dept varchar(250))\u001b[39;49m\u001b[38;5;124;43m\"\u001b[39;49m\u001b[43m)\u001b[49m\n\u001b[0;32m      3\u001b[0m con\u001b[38;5;241m.\u001b[39msql(\u001b[38;5;124m\"\u001b[39m\u001b[38;5;124mINSERT INTO test2 VALUES(1, \u001b[39m\u001b[38;5;124m'\u001b[39m\u001b[38;5;124mrohit\u001b[39m\u001b[38;5;124m'\u001b[39m\u001b[38;5;124m, \u001b[39m\u001b[38;5;124m'\u001b[39m\u001b[38;5;124mIT\u001b[39m\u001b[38;5;124m'\u001b[39m\u001b[38;5;124m)\u001b[39m\u001b[38;5;124m\"\u001b[39m)\n\u001b[0;32m      4\u001b[0m con\u001b[38;5;241m.\u001b[39mtable(\u001b[38;5;124m\"\u001b[39m\u001b[38;5;124mtest2\u001b[39m\u001b[38;5;124m\"\u001b[39m)\u001b[38;5;241m.\u001b[39mshow()\n",
      "\u001b[1;31mCatalogException\u001b[0m: Catalog Error: Table with name \"test2\" already exists!"
     ]
    }
   ],
   "source": [
    "con = duckdb.connect(\"./src/db/files.db\")\n",
    "con.sql(\"CREATE TABLE test2 (i INTEGER, name varchar(100), dept varchar(250))\")\n",
    "con.sql(\"INSERT INTO test2 VALUES(1, 'rohit', 'IT')\")\n",
    "con.table(\"test2\").show()\n",
    "con.close()"
   ]
  },
  {
   "cell_type": "code",
   "execution_count": 5,
   "metadata": {},
   "outputs": [
    {
     "name": "stdout",
     "output_type": "stream",
     "text": [
      "┌───────┬─────────┬─────────┐\n",
      "│   i   │  name   │  dept   │\n",
      "│ int32 │ varchar │ varchar │\n",
      "├───────┼─────────┼─────────┤\n",
      "│     1 │ rohit   │ IT      │\n",
      "│     2 │ pammi   │ law     │\n",
      "│     2 │ pammi   │ law     │\n",
      "└───────┴─────────┴─────────┘\n",
      "\n"
     ]
    }
   ],
   "source": [
    "con=duckdb.connect(\"./src/db/files.db\")\n",
    "con.sql(\"INSERT INTO test2 VALUES(2, 'pammi', 'law')\")\n",
    "con.table('test2').show()\n",
    "con.close()"
   ]
  },
  {
   "cell_type": "code",
   "execution_count": 6,
   "metadata": {},
   "outputs": [
    {
     "name": "stdout",
     "output_type": "stream",
     "text": [
      "┌───────┐\n",
      "│   i   │\n",
      "│ int32 │\n",
      "├───────┤\n",
      "│    42 │\n",
      "│    43 │\n",
      "│    43 │\n",
      "└───────┘\n",
      "\n"
     ]
    }
   ],
   "source": [
    "con=duckdb.connect(\"./src/db/files.db\")\n",
    "con.sql(\"INSERT INTO test VALUES(43)\")\n",
    "con.table(\"test\").show()\n",
    "con.close()"
   ]
  },
  {
   "cell_type": "code",
   "execution_count": 7,
   "metadata": {},
   "outputs": [
    {
     "data": {
      "text/plain": [
       "┌───────┬─────────┬─────────┐\n",
       "│   i   │  name   │  dept   │\n",
       "│ int32 │ varchar │ varchar │\n",
       "├───────┼─────────┼─────────┤\n",
       "│     1 │ rohit   │ IT      │\n",
       "│     2 │ pammi   │ law     │\n",
       "│     2 │ pammi   │ law     │\n",
       "└───────┴─────────┴─────────┘"
      ]
     },
     "execution_count": 7,
     "metadata": {},
     "output_type": "execute_result"
    }
   ],
   "source": [
    "con=duckdb.connect(\"./src/db/files.db\")\n",
    "con.sql(\"SELECT * from test2\")"
   ]
  },
  {
   "cell_type": "code",
   "execution_count": 8,
   "metadata": {},
   "outputs": [
    {
     "data": {
      "text/plain": [
       "┌───────┬─────────┬─────────┐\n",
       "│   i   │  name   │  dept   │\n",
       "│ int32 │ varchar │ varchar │\n",
       "├───────┼─────────┼─────────┤\n",
       "│     1 │ rohit   │ IT      │\n",
       "└───────┴─────────┴─────────┘"
      ]
     },
     "execution_count": 8,
     "metadata": {},
     "output_type": "execute_result"
    }
   ],
   "source": [
    "con.sql(\"SELECT * FROM test2 where dept='IT'\")"
   ]
  },
  {
   "cell_type": "code",
   "execution_count": 9,
   "metadata": {},
   "outputs": [
    {
     "data": {
      "text/plain": [
       "┌───────┬────────────┬─────────────┬────────────────────────────┬────────────┬─────────────────────────┐\n",
       "│  id   │ first_name │  last_name  │           email            │   gender   │          city           │\n",
       "│ int64 │  varchar   │   varchar   │          varchar           │  varchar   │         varchar         │\n",
       "├───────┼────────────┼─────────────┼────────────────────────────┼────────────┼─────────────────────────┤\n",
       "│     1 │ Corny      │ O'Rudden    │ corudden0@apple.com        │ Female     │ Shaxi                   │\n",
       "│     2 │ Katherina  │ Cockshoot   │ kcockshoot1@exblog.jp      │ Female     │ Oslo                    │\n",
       "│     3 │ Dicky      │ Anespie     │ danespie2@bing.com         │ Male       │ Jarigue                 │\n",
       "│     4 │ Josias     │ Catterall   │ jcatterall3@friendfeed.com │ Male       │ Liangdang Chengguanzhen │\n",
       "│     5 │ Pauletta   │ Weymont     │ pweymont4@gizmodo.com      │ Female     │ Alvesta                 │\n",
       "│     6 │ Edgar      │ Adshed      │ eadshed5@ameblo.jp         │ Male       │ Iriga City              │\n",
       "│     7 │ Gwenette   │ Harbert     │ gharbert6@goo.ne.jp        │ Female     │ Dazhigu                 │\n",
       "│     8 │ Field      │ Jandera     │ fjandera7@quantcast.com    │ Male       │ Yenagoa                 │\n",
       "│     9 │ Silas      │ Ness        │ sness8@delicious.com       │ Male       │ Portland                │\n",
       "│    10 │ Giacopo    │ Reitenbach  │ greitenbach9@uiuc.edu      │ Male       │ Itapicuru               │\n",
       "│     · │   ·        │   ·         │         ·                  │  ·         │     ·                   │\n",
       "│     · │   ·        │   ·         │         ·                  │  ·         │     ·                   │\n",
       "│     · │   ·        │   ·         │         ·                  │  ·         │     ·                   │\n",
       "│   991 │ Ernest     │ Arbor       │ earborri@ox.ac.uk          │ Male       │ Angeghakot’             │\n",
       "│   992 │ Erica      │ Hatch       │ ehatchrj@ning.com          │ Female     │ Terek                   │\n",
       "│   993 │ Griz       │ Kenington   │ gkeningtonrk@github.io     │ Male       │ Klatovy                 │\n",
       "│   994 │ Thedrick   │ Handke      │ thandkerl@meetup.com       │ Male       │ Delareyville            │\n",
       "│   995 │ Silvana    │ Duckerin    │ sduckerinrm@tuttocitta.it  │ Non-binary │ La Virginia             │\n",
       "│   996 │ Judd       │ Palser      │ jpalserrn@desdev.cn        │ Male       │ Yuanping                │\n",
       "│   997 │ Odella     │ Swyer-Sexey │ oswyersexeyro@i2i.jp       │ Agender    │ Chuzhou                 │\n",
       "│   998 │ Ingaberg   │ Sterling    │ isterlingrp@nih.gov        │ Female     │ Kissimmee               │\n",
       "│   999 │ Alexis     │ Tart        │ atartrq@whitehouse.gov     │ Female     │ Maonon                  │\n",
       "│  1000 │ Adriena    │ Piddlesden  │ apiddlesdenrr@is.gd        │ Polygender │ Bīrganj                 │\n",
       "├───────┴────────────┴─────────────┴────────────────────────────┴────────────┴─────────────────────────┤\n",
       "│ 1000 rows (20 shown)                                                                       6 columns │\n",
       "└──────────────────────────────────────────────────────────────────────────────────────────────────────┘"
      ]
     },
     "execution_count": 9,
     "metadata": {},
     "output_type": "execute_result"
    }
   ],
   "source": [
    "duckdb.sql(\"SELECT * FROM './src/data/emp.csv'\")"
   ]
  },
  {
   "cell_type": "code",
   "execution_count": 10,
   "metadata": {},
   "outputs": [
    {
     "ename": "IOException",
     "evalue": "IO Error: No files found that match the pattern \"./src/db/emp.csv\"",
     "output_type": "error",
     "traceback": [
      "\u001b[1;31m---------------------------------------------------------------------------\u001b[0m",
      "\u001b[1;31mIOException\u001b[0m                               Traceback (most recent call last)",
      "Cell \u001b[1;32mIn[10], line 1\u001b[0m\n\u001b[1;32m----> 1\u001b[0m \u001b[43mcon\u001b[49m\u001b[38;5;241;43m.\u001b[39;49m\u001b[43msql\u001b[49m\u001b[43m(\u001b[49m\u001b[38;5;124;43m\"\u001b[39;49m\u001b[38;5;124;43mCREATE TABLE test3 as SELECT * FROM \u001b[39;49m\u001b[38;5;124;43m'\u001b[39;49m\u001b[38;5;124;43m./src/db/emp.csv\u001b[39;49m\u001b[38;5;124;43m'\u001b[39;49m\u001b[38;5;124;43m\"\u001b[39;49m\u001b[43m)\u001b[49m\n\u001b[0;32m      2\u001b[0m con\u001b[38;5;241m.\u001b[39mtable(\u001b[38;5;124m\"\u001b[39m\u001b[38;5;124mtest3\u001b[39m\u001b[38;5;124m\"\u001b[39m)\u001b[38;5;241m.\u001b[39mshow()\n",
      "\u001b[1;31mIOException\u001b[0m: IO Error: No files found that match the pattern \"./src/db/emp.csv\""
     ]
    }
   ],
   "source": [
    "con.sql(\"CREATE TABLE test3 as SELECT * FROM './src/db/emp.csv'\")\n",
    "con.table(\"test3\").show()"
   ]
  },
  {
   "cell_type": "code",
   "execution_count": 11,
   "metadata": {},
   "outputs": [
    {
     "ename": "CatalogException",
     "evalue": "Catalog Error: Table with name \"test3\" already exists!",
     "output_type": "error",
     "traceback": [
      "\u001b[1;31m---------------------------------------------------------------------------\u001b[0m",
      "\u001b[1;31mCatalogException\u001b[0m                          Traceback (most recent call last)",
      "Cell \u001b[1;32mIn[11], line 1\u001b[0m\n\u001b[1;32m----> 1\u001b[0m \u001b[43mcon\u001b[49m\u001b[38;5;241;43m.\u001b[39;49m\u001b[43msql\u001b[49m\u001b[43m(\u001b[49m\u001b[38;5;124;43m\"\u001b[39;49m\u001b[38;5;124;43mCREATE TABLE test3 as SELECT * FROM \u001b[39;49m\u001b[38;5;124;43m'\u001b[39;49m\u001b[38;5;124;43m./src/data/emp.csv\u001b[39;49m\u001b[38;5;124;43m'\u001b[39;49m\u001b[38;5;124;43m\"\u001b[39;49m\u001b[43m)\u001b[49m\n\u001b[0;32m      2\u001b[0m con\u001b[38;5;241m.\u001b[39mtable(\u001b[38;5;124m\"\u001b[39m\u001b[38;5;124mtest3\u001b[39m\u001b[38;5;124m\"\u001b[39m)\u001b[38;5;241m.\u001b[39mshow()\n",
      "\u001b[1;31mCatalogException\u001b[0m: Catalog Error: Table with name \"test3\" already exists!"
     ]
    }
   ],
   "source": [
    "con.sql(\"CREATE TABLE test3 as SELECT * FROM './src/data/emp.csv'\")\n",
    "con.table(\"test3\").show()"
   ]
  },
  {
   "cell_type": "code",
   "execution_count": 12,
   "metadata": {},
   "outputs": [
    {
     "name": "stdout",
     "output_type": "stream",
     "text": [
      "┌───────┬────────────┬─────────────┬────────────────────────────┬────────────┬─────────────────────────┐\n",
      "│  id   │ first_name │  last_name  │           email            │   gender   │          city           │\n",
      "│ int64 │  varchar   │   varchar   │          varchar           │  varchar   │         varchar         │\n",
      "├───────┼────────────┼─────────────┼────────────────────────────┼────────────┼─────────────────────────┤\n",
      "│     1 │ Corny      │ O'Rudden    │ corudden0@apple.com        │ Female     │ Shaxi                   │\n",
      "│     2 │ Katherina  │ Cockshoot   │ kcockshoot1@exblog.jp      │ Female     │ Oslo                    │\n",
      "│     3 │ Dicky      │ Anespie     │ danespie2@bing.com         │ Male       │ Jarigue                 │\n",
      "│     4 │ Josias     │ Catterall   │ jcatterall3@friendfeed.com │ Male       │ Liangdang Chengguanzhen │\n",
      "│     5 │ Pauletta   │ Weymont     │ pweymont4@gizmodo.com      │ Female     │ Alvesta                 │\n",
      "│     6 │ Edgar      │ Adshed      │ eadshed5@ameblo.jp         │ Male       │ Iriga City              │\n",
      "│     7 │ Gwenette   │ Harbert     │ gharbert6@goo.ne.jp        │ Female     │ Dazhigu                 │\n",
      "│     8 │ Field      │ Jandera     │ fjandera7@quantcast.com    │ Male       │ Yenagoa                 │\n",
      "│     9 │ Silas      │ Ness        │ sness8@delicious.com       │ Male       │ Portland                │\n",
      "│    10 │ Giacopo    │ Reitenbach  │ greitenbach9@uiuc.edu      │ Male       │ Itapicuru               │\n",
      "│     · │   ·        │   ·         │         ·                  │  ·         │     ·                   │\n",
      "│     · │   ·        │   ·         │         ·                  │  ·         │     ·                   │\n",
      "│     · │   ·        │   ·         │         ·                  │  ·         │     ·                   │\n",
      "│   991 │ Ernest     │ Arbor       │ earborri@ox.ac.uk          │ Male       │ Angeghakot’             │\n",
      "│   992 │ Erica      │ Hatch       │ ehatchrj@ning.com          │ Female     │ Terek                   │\n",
      "│   993 │ Griz       │ Kenington   │ gkeningtonrk@github.io     │ Male       │ Klatovy                 │\n",
      "│   994 │ Thedrick   │ Handke      │ thandkerl@meetup.com       │ Male       │ Delareyville            │\n",
      "│   995 │ Silvana    │ Duckerin    │ sduckerinrm@tuttocitta.it  │ Non-binary │ La Virginia             │\n",
      "│   996 │ Judd       │ Palser      │ jpalserrn@desdev.cn        │ Male       │ Yuanping                │\n",
      "│   997 │ Odella     │ Swyer-Sexey │ oswyersexeyro@i2i.jp       │ Agender    │ Chuzhou                 │\n",
      "│   998 │ Ingaberg   │ Sterling    │ isterlingrp@nih.gov        │ Female     │ Kissimmee               │\n",
      "│   999 │ Alexis     │ Tart        │ atartrq@whitehouse.gov     │ Female     │ Maonon                  │\n",
      "│  1000 │ Adriena    │ Piddlesden  │ apiddlesdenrr@is.gd        │ Polygender │ Bīrganj                 │\n",
      "├───────┴────────────┴─────────────┴────────────────────────────┴────────────┴─────────────────────────┤\n",
      "│ 1000 rows (20 shown)                                                                       6 columns │\n",
      "└──────────────────────────────────────────────────────────────────────────────────────────────────────┘\n",
      "\n"
     ]
    }
   ],
   "source": [
    "con.table(\"test3\").show()"
   ]
  },
  {
   "cell_type": "code",
   "execution_count": 13,
   "metadata": {},
   "outputs": [
    {
     "data": {
      "text/plain": [
       "┌───────┬────────────┬───────────┬─────────┬─────────┬─────────┐\n",
       "│  id   │ first_name │ last_name │  email  │ gender  │  city   │\n",
       "│ int64 │  varchar   │  varchar  │ varchar │ varchar │ varchar │\n",
       "├───────┴────────────┴───────────┴─────────┴─────────┴─────────┤\n",
       "│                            0 rows                            │\n",
       "└──────────────────────────────────────────────────────────────┘"
      ]
     },
     "execution_count": 13,
     "metadata": {},
     "output_type": "execute_result"
    }
   ],
   "source": [
    "con.sql(\"SELECT * FROM test3 WHERE first_name='corny'\")"
   ]
  },
  {
   "cell_type": "code",
   "execution_count": 14,
   "metadata": {},
   "outputs": [
    {
     "data": {
      "text/plain": [
       "┌───────┬────────────┬───────────┬─────────────────────┬─────────┬─────────┐\n",
       "│  id   │ first_name │ last_name │        email        │ gender  │  city   │\n",
       "│ int64 │  varchar   │  varchar  │       varchar       │ varchar │ varchar │\n",
       "├───────┼────────────┼───────────┼─────────────────────┼─────────┼─────────┤\n",
       "│     1 │ Corny      │ O'Rudden  │ corudden0@apple.com │ Female  │ Shaxi   │\n",
       "└───────┴────────────┴───────────┴─────────────────────┴─────────┴─────────┘"
      ]
     },
     "execution_count": 14,
     "metadata": {},
     "output_type": "execute_result"
    }
   ],
   "source": [
    "con.sql(\"SELECT * FROM test3 WHERE first_name='Corny'\")"
   ]
  },
  {
   "cell_type": "code",
   "execution_count": 15,
   "metadata": {},
   "outputs": [
    {
     "data": {
      "text/plain": [
       "┌───────┬────────────┬─────────────┬────────────────────────────┬────────────┬─────────────────────────┐\n",
       "│  id   │ first_name │  last_name  │           email            │   gender   │          city           │\n",
       "│ int64 │  varchar   │   varchar   │          varchar           │  varchar   │         varchar         │\n",
       "├───────┼────────────┼─────────────┼────────────────────────────┼────────────┼─────────────────────────┤\n",
       "│     1 │ Corny      │ O'Rudden    │ corudden0@apple.com        │ Female     │ Shaxi                   │\n",
       "│     2 │ Katherina  │ Cockshoot   │ kcockshoot1@exblog.jp      │ Female     │ Oslo                    │\n",
       "│     3 │ Dicky      │ Anespie     │ danespie2@bing.com         │ Male       │ Jarigue                 │\n",
       "│     4 │ Josias     │ Catterall   │ jcatterall3@friendfeed.com │ Male       │ Liangdang Chengguanzhen │\n",
       "│     5 │ Pauletta   │ Weymont     │ pweymont4@gizmodo.com      │ Female     │ Alvesta                 │\n",
       "│     6 │ Edgar      │ Adshed      │ eadshed5@ameblo.jp         │ Male       │ Iriga City              │\n",
       "│     7 │ Gwenette   │ Harbert     │ gharbert6@goo.ne.jp        │ Female     │ Dazhigu                 │\n",
       "│     8 │ Field      │ Jandera     │ fjandera7@quantcast.com    │ Male       │ Yenagoa                 │\n",
       "│     9 │ Silas      │ Ness        │ sness8@delicious.com       │ Male       │ Portland                │\n",
       "│    10 │ Giacopo    │ Reitenbach  │ greitenbach9@uiuc.edu      │ Male       │ Itapicuru               │\n",
       "│     · │   ·        │   ·         │         ·                  │  ·         │     ·                   │\n",
       "│     · │   ·        │   ·         │         ·                  │  ·         │     ·                   │\n",
       "│     · │   ·        │   ·         │         ·                  │  ·         │     ·                   │\n",
       "│   991 │ Ernest     │ Arbor       │ earborri@ox.ac.uk          │ Male       │ Angeghakot’             │\n",
       "│   992 │ Erica      │ Hatch       │ ehatchrj@ning.com          │ Female     │ Terek                   │\n",
       "│   993 │ Griz       │ Kenington   │ gkeningtonrk@github.io     │ Male       │ Klatovy                 │\n",
       "│   994 │ Thedrick   │ Handke      │ thandkerl@meetup.com       │ Male       │ Delareyville            │\n",
       "│   995 │ Silvana    │ Duckerin    │ sduckerinrm@tuttocitta.it  │ Non-binary │ La Virginia             │\n",
       "│   996 │ Judd       │ Palser      │ jpalserrn@desdev.cn        │ Male       │ Yuanping                │\n",
       "│   997 │ Odella     │ Swyer-Sexey │ oswyersexeyro@i2i.jp       │ Agender    │ Chuzhou                 │\n",
       "│   998 │ Ingaberg   │ Sterling    │ isterlingrp@nih.gov        │ Female     │ Kissimmee               │\n",
       "│   999 │ Alexis     │ Tart        │ atartrq@whitehouse.gov     │ Female     │ Maonon                  │\n",
       "│  1000 │ Adriena    │ Piddlesden  │ apiddlesdenrr@is.gd        │ Polygender │ Bīrganj                 │\n",
       "├───────┴────────────┴─────────────┴────────────────────────────┴────────────┴─────────────────────────┤\n",
       "│ 1000 rows (20 shown)                                                                       6 columns │\n",
       "└──────────────────────────────────────────────────────────────────────────────────────────────────────┘"
      ]
     },
     "execution_count": 15,
     "metadata": {},
     "output_type": "execute_result"
    }
   ],
   "source": [
    "con.sql(\"select * from test3\")"
   ]
  },
  {
   "cell_type": "code",
   "execution_count": 16,
   "metadata": {},
   "outputs": [
    {
     "data": {
      "text/plain": [
       "┌───────┬────────────┬───────────┬────────────────────────────────┬─────────┬──────────────────┐\n",
       "│  id   │ first_name │ last_name │             email              │ gender  │       city       │\n",
       "│ int64 │  varchar   │  varchar  │            varchar             │ varchar │     varchar      │\n",
       "├───────┼────────────┼───────────┼────────────────────────────────┼─────────┼──────────────────┤\n",
       "│     1 │ Corny      │ O'Rudden  │ corudden0@apple.com            │ Female  │ Shaxi            │\n",
       "│     2 │ Katherina  │ Cockshoot │ kcockshoot1@exblog.jp          │ Female  │ Oslo             │\n",
       "│     5 │ Pauletta   │ Weymont   │ pweymont4@gizmodo.com          │ Female  │ Alvesta          │\n",
       "│     7 │ Gwenette   │ Harbert   │ gharbert6@goo.ne.jp            │ Female  │ Dazhigu          │\n",
       "│    11 │ Millicent  │ Dikels    │ mdikelsa@yellowbook.com        │ Female  │ Ganhe            │\n",
       "│    16 │ Ginnie     │ Anney     │ ganneyf@plala.or.jp            │ Female  │ Kota Bharu       │\n",
       "│    17 │ Leslie     │ Mewrcik   │ lmewrcikg@amazon.co.uk         │ Female  │ Diré             │\n",
       "│    18 │ Noel       │ Sadler    │ nsadlerh@howstuffworks.com     │ Female  │ Heshang          │\n",
       "│    20 │ Yoshiko    │ Streak    │ ystreakj@mail.ru               │ Female  │ Kuching          │\n",
       "│    21 │ Terrijo    │ Gostage   │ tgostagek@icq.com              │ Female  │ Burnham          │\n",
       "│     · │   ·        │   ·       │         ·                      │   ·     │    ·             │\n",
       "│     · │   ·        │   ·       │         ·                      │   ·     │    ·             │\n",
       "│     · │   ·        │   ·       │         ·                      │   ·     │    ·             │\n",
       "│   972 │ Corena     │ Mundee    │ cmundeeqz@pagesperso-orange.fr │ Female  │ Kuala Terengganu │\n",
       "│   975 │ Mignon     │ Tyt       │ mtytr2@usa.gov                 │ Female  │ Moulins          │\n",
       "│   979 │ Cami       │ covino    │ ccovinor6@census.gov           │ Female  │ Nusaherang       │\n",
       "│   980 │ Joana      │ Denzey    │ jdenzeyr7@google.de            │ Female  │ Dingshu          │\n",
       "│   986 │ Lorie      │ Boick     │ lboickrd@altervista.org        │ Female  │ Huaiya           │\n",
       "│   988 │ Ulrike     │ Pleavin   │ upleavinrf@vkontakte.ru        │ Female  │ Baipu            │\n",
       "│   989 │ Bettine    │ Dachey    │ bdacheyrg@tripadvisor.com      │ Female  │ Filabusi         │\n",
       "│   992 │ Erica      │ Hatch     │ ehatchrj@ning.com              │ Female  │ Terek            │\n",
       "│   998 │ Ingaberg   │ Sterling  │ isterlingrp@nih.gov            │ Female  │ Kissimmee        │\n",
       "│   999 │ Alexis     │ Tart      │ atartrq@whitehouse.gov         │ Female  │ Maonon           │\n",
       "├───────┴────────────┴───────────┴────────────────────────────────┴─────────┴──────────────────┤\n",
       "│ 447 rows (20 shown)                                                                6 columns │\n",
       "└──────────────────────────────────────────────────────────────────────────────────────────────┘"
      ]
     },
     "execution_count": 16,
     "metadata": {},
     "output_type": "execute_result"
    }
   ],
   "source": [
    "con.sql(\"select * from test3 where gender='Female'\")"
   ]
  },
  {
   "cell_type": "code",
   "execution_count": 17,
   "metadata": {},
   "outputs": [
    {
     "ename": "BinderException",
     "evalue": "Binder Error: column \"city\" must appear in the GROUP BY clause or must be part of an aggregate function.\nEither add it to the GROUP BY list, or use \"ANY_VALUE(city)\" if the exact value of \"city\" is not important.",
     "output_type": "error",
     "traceback": [
      "\u001b[1;31m---------------------------------------------------------------------------\u001b[0m",
      "\u001b[1;31mBinderException\u001b[0m                           Traceback (most recent call last)",
      "Cell \u001b[1;32mIn[17], line 1\u001b[0m\n\u001b[1;32m----> 1\u001b[0m \u001b[43mcon\u001b[49m\u001b[38;5;241;43m.\u001b[39;49m\u001b[43msql\u001b[49m\u001b[43m(\u001b[49m\u001b[38;5;124;43m\"\u001b[39;49m\u001b[38;5;124;43mSELECT city, gender FROM test3 group by gender\u001b[39;49m\u001b[38;5;124;43m\"\u001b[39;49m\u001b[43m)\u001b[49m\n",
      "\u001b[1;31mBinderException\u001b[0m: Binder Error: column \"city\" must appear in the GROUP BY clause or must be part of an aggregate function.\nEither add it to the GROUP BY list, or use \"ANY_VALUE(city)\" if the exact value of \"city\" is not important."
     ]
    }
   ],
   "source": [
    "con.sql(\"SELECT city, gender FROM test3 group by gender\")"
   ]
  },
  {
   "cell_type": "code",
   "execution_count": 18,
   "metadata": {},
   "outputs": [
    {
     "data": {
      "text/plain": [
       "┌─────────────────────┬─────────┐\n",
       "│        city         │ gender  │\n",
       "│       varchar       │ varchar │\n",
       "├─────────────────────┼─────────┤\n",
       "│ Dazhigu             │ Female  │\n",
       "│ Ganhe               │ Female  │\n",
       "│ Kota Bharu          │ Female  │\n",
       "│ Cherbourg-Octeville │ Male    │\n",
       "│ Prado               │ Female  │\n",
       "│ Limit               │ Female  │\n",
       "│ Tran                │ Female  │\n",
       "│ Nong Chik           │ Female  │\n",
       "│ Sosnovyy Bor        │ Female  │\n",
       "│ Jielong             │ Female  │\n",
       "│    ·                │   ·     │\n",
       "│    ·                │   ·     │\n",
       "│    ·                │   ·     │\n",
       "│ Billings            │ Female  │\n",
       "│ Leonárisso          │ Agender │\n",
       "│ Manaulanan          │ Female  │\n",
       "│ Ilopango            │ Female  │\n",
       "│ Cabangan            │ Male    │\n",
       "│ Laohekou            │ Male    │\n",
       "│ Moro                │ Male    │\n",
       "│ Colonia Neuland     │ Male    │\n",
       "│ Jinzao              │ Male    │\n",
       "│ Baruunsuu           │ Male    │\n",
       "├─────────────────────┴─────────┤\n",
       "│      990 rows (20 shown)      │\n",
       "└───────────────────────────────┘"
      ]
     },
     "execution_count": 18,
     "metadata": {},
     "output_type": "execute_result"
    }
   ],
   "source": [
    "con.sql(\"SELECT city, gender FROM test3 group by gender,city\")"
   ]
  },
  {
   "cell_type": "code",
   "execution_count": 19,
   "metadata": {},
   "outputs": [
    {
     "data": {
      "text/plain": [
       "┌──────────────┬─────────────────────────┬─────────┐\n",
       "│ count_star() │          city           │ gender  │\n",
       "│    int64     │         varchar         │ varchar │\n",
       "├──────────────┼─────────────────────────┼─────────┤\n",
       "│            1 │ Liangdang Chengguanzhen │ Male    │\n",
       "│            1 │ Iriga City              │ Male    │\n",
       "│            1 │ Portland                │ Male    │\n",
       "│            1 │ Itapicuru               │ Male    │\n",
       "│            1 │ Agriá                   │ Male    │\n",
       "│            1 │ Kota Bharu              │ Female  │\n",
       "│            1 │ Diré                    │ Female  │\n",
       "│            1 │ Nedakonice              │ Male    │\n",
       "│            2 │ Prado                   │ Female  │\n",
       "│            1 │ Sepulu                  │ Male    │\n",
       "│            · │   ·                     │  ·      │\n",
       "│            · │   ·                     │  ·      │\n",
       "│            · │   ·                     │  ·      │\n",
       "│            1 │ Pallasovka              │ Male    │\n",
       "│            1 │ Jieduo                  │ Male    │\n",
       "│            1 │ Kalino                  │ Female  │\n",
       "│            1 │ Ōmura                   │ Female  │\n",
       "│            1 │ Ágio Pnévma             │ Male    │\n",
       "│            1 │ Moro                    │ Male    │\n",
       "│            1 │ Balingasag              │ Female  │\n",
       "│            1 │ Minante Segundo         │ Male    │\n",
       "│            1 │ Sūq ar Rabū‘            │ Male    │\n",
       "│            1 │ Huaiya                  │ Female  │\n",
       "├──────────────┴─────────────────────────┴─────────┤\n",
       "│ 990 rows (20 shown)                    3 columns │\n",
       "└──────────────────────────────────────────────────┘"
      ]
     },
     "execution_count": 19,
     "metadata": {},
     "output_type": "execute_result"
    }
   ],
   "source": [
    "con.sql(\"SELECT count(*), city, gender FROM test3 group by city,gender\")"
   ]
  },
  {
   "cell_type": "code",
   "execution_count": 20,
   "metadata": {},
   "outputs": [
    {
     "data": {
      "text/plain": [
       "┌───────┬────────────┬───────────┬──────────────────────────────┬─────────┬───────────────┐\n",
       "│  id   │ first_name │ last_name │            email             │ gender  │     city      │\n",
       "│ int64 │  varchar   │  varchar  │           varchar            │ varchar │    varchar    │\n",
       "├───────┼────────────┼───────────┼──────────────────────────────┼─────────┼───────────────┤\n",
       "│    46 │ Amargo     │ Fishwick  │ afishwick19@berkeley.edu     │ Female  │ Fort Beaufort │\n",
       "│   683 │ Nannie     │ Grigorian │ ngrigorianiy@tripadvisor.com │ Female  │ Fort Beaufort │\n",
       "└───────┴────────────┴───────────┴──────────────────────────────┴─────────┴───────────────┘"
      ]
     },
     "execution_count": 20,
     "metadata": {},
     "output_type": "execute_result"
    }
   ],
   "source": [
    "con.sql(\"SELECT * from test3 where city='Fort Beaufort'\")"
   ]
  },
  {
   "cell_type": "code",
   "execution_count": 21,
   "metadata": {},
   "outputs": [
    {
     "data": {
      "text/plain": [
       "┌──────────────┬─────────────┐\n",
       "│ count_star() │   gender    │\n",
       "│    int64     │   varchar   │\n",
       "├──────────────┼─────────────┤\n",
       "│           18 │ Bigender    │\n",
       "│          450 │ Male        │\n",
       "│           18 │ Agender     │\n",
       "│           20 │ Genderqueer │\n",
       "│           15 │ Polygender  │\n",
       "│           17 │ Non-binary  │\n",
       "│          447 │ Female      │\n",
       "│           15 │ Genderfluid │\n",
       "└──────────────┴─────────────┘"
      ]
     },
     "execution_count": 21,
     "metadata": {},
     "output_type": "execute_result"
    }
   ],
   "source": [
    "con.sql(\"SELECT count(*), gender FROM test3 group by gender\")"
   ]
  },
  {
   "cell_type": "code",
   "execution_count": 22,
   "metadata": {},
   "outputs": [
    {
     "data": {
      "text/plain": [
       "┌───────┬────────────┬───────────┬──────────────────────────────────┬──────────┬──────────────────┐\n",
       "│  id   │ first_name │ last_name │              email               │  gender  │       city       │\n",
       "│ int64 │  varchar   │  varchar  │             varchar              │ varchar  │     varchar      │\n",
       "├───────┼────────────┼───────────┼──────────────────────────────────┼──────────┼──────────────────┤\n",
       "│    55 │ Maurits    │ Keoghan   │ mkeoghan1i@cisco.com             │ Bigender │ Xi’an            │\n",
       "│   198 │ Wayland    │ Abbs      │ wabbs5h@umn.edu                  │ Bigender │ Calape           │\n",
       "│   285 │ Tammie     │ Rodwell   │ trodwell7w@time.com              │ Bigender │ Zapatero         │\n",
       "│   298 │ Koo        │ Golly     │ kgolly89@people.com.cn           │ Bigender │ Serednye Vodyane │\n",
       "│   312 │ Saunderson │ Stanesby  │ sstanesby8n@feedburner.com       │ Bigender │ El Aguilar       │\n",
       "│   346 │ Tuck       │ Marques   │ tmarques9l@usnews.com            │ Bigender │ Świdnica         │\n",
       "│   427 │ Denney     │ Aumerle   │ daumerlebu@bbb.org               │ Bigender │ Farkhor          │\n",
       "│   434 │ Estella    │ Jendrys   │ ejendrysc1@digg.com              │ Bigender │ Surat Thani      │\n",
       "│   549 │ Miran      │ Hargraves │ mhargravesf8@acquirethisname.com │ Bigender │ Liloan           │\n",
       "│   571 │ Mitch      │ Gurys     │ mgurysfu@techcrunch.com          │ Bigender │ Muang Xay        │\n",
       "│   573 │ Orren      │ Methuen   │ omethuenfw@who.int               │ Bigender │ Dasht-e Archī    │\n",
       "│   576 │ Demott     │ Sayles    │ dsaylesfz@sitemeter.com          │ Bigender │ Op               │\n",
       "│   732 │ Demetrius  │ Greg      │ dgregkb@hhs.gov                  │ Bigender │ Baki             │\n",
       "│   744 │ Tally      │ Blamphin  │ tblamphinkn@sphinn.com           │ Bigender │ Maliiha          │\n",
       "│   779 │ Peri       │ Henker    │ phenkerlm@pbs.org                │ Bigender │ Paris 18         │\n",
       "│   825 │ Keenan     │ Wong      │ kwongmw@sogou.com                │ Bigender │ Zhichanghe       │\n",
       "│   844 │ Jill       │ Stalman   │ jstalmannf@yolasite.com          │ Bigender │ Rancasadang      │\n",
       "│   934 │ Sean       │ Piell     │ spiellpx@github.com              │ Bigender │ Rudnichnyy       │\n",
       "├───────┴────────────┴───────────┴──────────────────────────────────┴──────────┴──────────────────┤\n",
       "│ 18 rows                                                                               6 columns │\n",
       "└─────────────────────────────────────────────────────────────────────────────────────────────────┘"
      ]
     },
     "execution_count": 22,
     "metadata": {},
     "output_type": "execute_result"
    }
   ],
   "source": [
    "con.sql(\"Select * from test3 where gender='Bigender'\")"
   ]
  },
  {
   "cell_type": "code",
   "execution_count": 23,
   "metadata": {},
   "outputs": [
    {
     "data": {
      "text/plain": [
       "┌──────────────┬─────────┬─────────────────────┐\n",
       "│ count_star() │ gender  │        city         │\n",
       "│    int64     │ varchar │       varchar       │\n",
       "├──────────────┼─────────┼─────────────────────┤\n",
       "│            1 │ Female  │ Dazhigu             │\n",
       "│            1 │ Female  │ Ganhe               │\n",
       "│            1 │ Female  │ Kota Bharu          │\n",
       "│            1 │ Male    │ Cherbourg-Octeville │\n",
       "│            2 │ Female  │ Prado               │\n",
       "│            1 │ Female  │ Limit               │\n",
       "│            1 │ Female  │ Tran                │\n",
       "│            1 │ Female  │ Nong Chik           │\n",
       "│            1 │ Female  │ Sosnovyy Bor        │\n",
       "│            1 │ Female  │ Jielong             │\n",
       "│            · │   ·     │   ·                 │\n",
       "│            · │   ·     │   ·                 │\n",
       "│            · │   ·     │   ·                 │\n",
       "│            1 │ Female  │ Kalino              │\n",
       "│            1 │ Male    │ Vilkaviskis         │\n",
       "│            1 │ Female  │ Bayt Maqdūm         │\n",
       "│            1 │ Female  │ Sendai              │\n",
       "│            1 │ Female  │ Tawen Aobao         │\n",
       "│            1 │ Female  │ Kuala Terengganu    │\n",
       "│            1 │ Male    │ Johanneshov         │\n",
       "│            1 │ Agender │ Gaoping             │\n",
       "│            1 │ Female  │ Baipu               │\n",
       "│            1 │ Male    │ Angeghakot’         │\n",
       "├──────────────┴─────────┴─────────────────────┤\n",
       "│ 990 rows (20 shown)                3 columns │\n",
       "└──────────────────────────────────────────────┘"
      ]
     },
     "execution_count": 23,
     "metadata": {},
     "output_type": "execute_result"
    }
   ],
   "source": [
    "con.sql(\"select count(*), gender, city from test3 group by gender,city\")"
   ]
  },
  {
   "cell_type": "code",
   "execution_count": 24,
   "metadata": {},
   "outputs": [
    {
     "ename": "BinderException",
     "evalue": "Binder Error: Cannot compare values of type VARCHAR and type INTEGER_LITERAL - an explicit cast is required",
     "output_type": "error",
     "traceback": [
      "\u001b[1;31m---------------------------------------------------------------------------\u001b[0m",
      "\u001b[1;31mBinderException\u001b[0m                           Traceback (most recent call last)",
      "Cell \u001b[1;32mIn[24], line 1\u001b[0m\n\u001b[1;32m----> 1\u001b[0m \u001b[43mcon\u001b[49m\u001b[38;5;241;43m.\u001b[39;49m\u001b[43msql\u001b[49m\u001b[43m(\u001b[49m\u001b[38;5;124;43m\"\u001b[39;49m\u001b[38;5;124;43mselect count(*), gender, city from test3 group by gender,city having city>1\u001b[39;49m\u001b[38;5;124;43m\"\u001b[39;49m\u001b[43m)\u001b[49m\n",
      "\u001b[1;31mBinderException\u001b[0m: Binder Error: Cannot compare values of type VARCHAR and type INTEGER_LITERAL - an explicit cast is required"
     ]
    }
   ],
   "source": [
    "con.sql(\"select count(*), gender, city from test3 group by gender,city having city>1\")"
   ]
  },
  {
   "cell_type": "code",
   "execution_count": 25,
   "metadata": {},
   "outputs": [
    {
     "data": {
      "text/plain": [
       "┌──────────────┬─────────┬───────────────┐\n",
       "│ count_star() │ gender  │     city      │\n",
       "│    int64     │ varchar │    varchar    │\n",
       "├──────────────┼─────────┼───────────────┤\n",
       "│            2 │ Male    │ Dawang        │\n",
       "│            2 │ Male    │ Limoges       │\n",
       "│            2 │ Female  │ Fort Beaufort │\n",
       "│            2 │ Male    │ Keli          │\n",
       "│            2 │ Female  │ Prado         │\n",
       "│            2 │ Male    │ Xigangzi      │\n",
       "│            2 │ Male    │ Nanmu         │\n",
       "│            2 │ Male    │ Jönköping     │\n",
       "│            2 │ Female  │ Oslo          │\n",
       "│            2 │ Male    │ Independencia │\n",
       "├──────────────┴─────────┴───────────────┤\n",
       "│ 10 rows                      3 columns │\n",
       "└────────────────────────────────────────┘"
      ]
     },
     "execution_count": 25,
     "metadata": {},
     "output_type": "execute_result"
    }
   ],
   "source": [
    "con.sql(\"select count(*), gender, city from test3 group by gender,city having count(city)>1\")"
   ]
  },
  {
   "cell_type": "code",
   "execution_count": null,
   "metadata": {},
   "outputs": [],
   "source": [
    "duckdb.sql(\"SELECT * from r'./C:\\Users\\rohit\\Desktop\\MKT\\Index\\MW-All-Indices-27-Sep-2024.csv'\")"
   ]
  },
  {
   "cell_type": "code",
   "execution_count": null,
   "metadata": {},
   "outputs": [],
   "source": []
  }
 ],
 "metadata": {
  "kernelspec": {
   "display_name": "venv",
   "language": "python",
   "name": "python3"
  },
  "language_info": {
   "codemirror_mode": {
    "name": "ipython",
    "version": 3
   },
   "file_extension": ".py",
   "mimetype": "text/x-python",
   "name": "python",
   "nbconvert_exporter": "python",
   "pygments_lexer": "ipython3",
   "version": "3.10.7"
  }
 },
 "nbformat": 4,
 "nbformat_minor": 2
}
