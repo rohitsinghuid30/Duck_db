{
 "cells": [
  {
   "cell_type": "code",
   "execution_count": 1,
   "metadata": {},
   "outputs": [],
   "source": [
    "import duckdb"
   ]
  },
  {
   "cell_type": "code",
   "execution_count": 2,
   "metadata": {},
   "outputs": [
    {
     "ename": "ParserException",
     "evalue": "Parser Error: syntax error at or near \"'./src/emp.csv'\"",
     "output_type": "error",
     "traceback": [
      "\u001b[1;31m---------------------------------------------------------------------------\u001b[0m",
      "\u001b[1;31mParserException\u001b[0m                           Traceback (most recent call last)",
      "Cell \u001b[1;32mIn[2], line 1\u001b[0m\n\u001b[1;32m----> 1\u001b[0m \u001b[43mduckdb\u001b[49m\u001b[38;5;241;43m.\u001b[39;49m\u001b[43msql\u001b[49m\u001b[43m(\u001b[49m\u001b[38;5;124;43m\"\u001b[39;49m\u001b[38;5;124;43mCREATE TABLE Employees AS \u001b[39;49m\u001b[38;5;124;43m'\u001b[39;49m\u001b[38;5;124;43m./src/emp.csv\u001b[39;49m\u001b[38;5;124;43m'\u001b[39;49m\u001b[38;5;124;43m\"\u001b[39;49m\u001b[43m)\u001b[49m\n",
      "File \u001b[1;32mc:\\Users\\rohit\\Desktop\\rohit\\python\\Python_Duck_Db\\venv\\lib\\site-packages\\duckdb\\__init__.py:457\u001b[0m, in \u001b[0;36msql\u001b[1;34m(query, **kwargs)\u001b[0m\n\u001b[0;32m    455\u001b[0m \u001b[38;5;28;01melse\u001b[39;00m:\n\u001b[0;32m    456\u001b[0m     conn \u001b[38;5;241m=\u001b[39m duckdb\u001b[38;5;241m.\u001b[39mconnect(\u001b[38;5;124m\"\u001b[39m\u001b[38;5;124m:default:\u001b[39m\u001b[38;5;124m\"\u001b[39m)\n\u001b[1;32m--> 457\u001b[0m \u001b[38;5;28;01mreturn\u001b[39;00m conn\u001b[38;5;241m.\u001b[39msql(query, \u001b[38;5;241m*\u001b[39m\u001b[38;5;241m*\u001b[39mkwargs)\n",
      "\u001b[1;31mParserException\u001b[0m: Parser Error: syntax error at or near \"'./src/emp.csv'\""
     ]
    }
   ],
   "source": [
    "duckdb.sql(\"CREATE TABLE Employees AS './src/emp.csv'\")"
   ]
  },
  {
   "cell_type": "code",
   "execution_count": 3,
   "metadata": {},
   "outputs": [
    {
     "ename": "ParserException",
     "evalue": "Parser Error: syntax error at or near \"'./src/data/emp.csv'\"",
     "output_type": "error",
     "traceback": [
      "\u001b[1;31m---------------------------------------------------------------------------\u001b[0m",
      "\u001b[1;31mParserException\u001b[0m                           Traceback (most recent call last)",
      "Cell \u001b[1;32mIn[3], line 1\u001b[0m\n\u001b[1;32m----> 1\u001b[0m \u001b[43mduckdb\u001b[49m\u001b[38;5;241;43m.\u001b[39;49m\u001b[43msql\u001b[49m\u001b[43m(\u001b[49m\u001b[38;5;124;43m\"\u001b[39;49m\u001b[38;5;124;43mCREATE TABLE Employees AS \u001b[39;49m\u001b[38;5;124;43m'\u001b[39;49m\u001b[38;5;124;43m./src/data/emp.csv\u001b[39;49m\u001b[38;5;124;43m'\u001b[39;49m\u001b[38;5;124;43m\"\u001b[39;49m\u001b[43m)\u001b[49m\n",
      "File \u001b[1;32mc:\\Users\\rohit\\Desktop\\rohit\\python\\Python_Duck_Db\\venv\\lib\\site-packages\\duckdb\\__init__.py:457\u001b[0m, in \u001b[0;36msql\u001b[1;34m(query, **kwargs)\u001b[0m\n\u001b[0;32m    455\u001b[0m \u001b[38;5;28;01melse\u001b[39;00m:\n\u001b[0;32m    456\u001b[0m     conn \u001b[38;5;241m=\u001b[39m duckdb\u001b[38;5;241m.\u001b[39mconnect(\u001b[38;5;124m\"\u001b[39m\u001b[38;5;124m:default:\u001b[39m\u001b[38;5;124m\"\u001b[39m)\n\u001b[1;32m--> 457\u001b[0m \u001b[38;5;28;01mreturn\u001b[39;00m conn\u001b[38;5;241m.\u001b[39msql(query, \u001b[38;5;241m*\u001b[39m\u001b[38;5;241m*\u001b[39mkwargs)\n",
      "\u001b[1;31mParserException\u001b[0m: Parser Error: syntax error at or near \"'./src/data/emp.csv'\""
     ]
    }
   ],
   "source": [
    "duckdb.sql(\"CREATE TABLE Employees AS './src/data/emp.csv'\")"
   ]
  },
  {
   "cell_type": "code",
   "execution_count": 4,
   "metadata": {},
   "outputs": [
    {
     "ename": "ParserException",
     "evalue": "Parser Error: syntax error at or near \"'src/data/emp.csv'\"",
     "output_type": "error",
     "traceback": [
      "\u001b[1;31m---------------------------------------------------------------------------\u001b[0m",
      "\u001b[1;31mParserException\u001b[0m                           Traceback (most recent call last)",
      "Cell \u001b[1;32mIn[4], line 1\u001b[0m\n\u001b[1;32m----> 1\u001b[0m \u001b[43mduckdb\u001b[49m\u001b[38;5;241;43m.\u001b[39;49m\u001b[43msql\u001b[49m\u001b[43m(\u001b[49m\u001b[38;5;124;43m\"\u001b[39;49m\u001b[38;5;124;43mCREATE TABLE Employees AS \u001b[39;49m\u001b[38;5;124;43m'\u001b[39;49m\u001b[38;5;124;43msrc/data/emp.csv\u001b[39;49m\u001b[38;5;124;43m'\u001b[39;49m\u001b[38;5;124;43m\"\u001b[39;49m\u001b[43m)\u001b[49m\n",
      "File \u001b[1;32mc:\\Users\\rohit\\Desktop\\rohit\\python\\Python_Duck_Db\\venv\\lib\\site-packages\\duckdb\\__init__.py:457\u001b[0m, in \u001b[0;36msql\u001b[1;34m(query, **kwargs)\u001b[0m\n\u001b[0;32m    455\u001b[0m \u001b[38;5;28;01melse\u001b[39;00m:\n\u001b[0;32m    456\u001b[0m     conn \u001b[38;5;241m=\u001b[39m duckdb\u001b[38;5;241m.\u001b[39mconnect(\u001b[38;5;124m\"\u001b[39m\u001b[38;5;124m:default:\u001b[39m\u001b[38;5;124m\"\u001b[39m)\n\u001b[1;32m--> 457\u001b[0m \u001b[38;5;28;01mreturn\u001b[39;00m conn\u001b[38;5;241m.\u001b[39msql(query, \u001b[38;5;241m*\u001b[39m\u001b[38;5;241m*\u001b[39mkwargs)\n",
      "\u001b[1;31mParserException\u001b[0m: Parser Error: syntax error at or near \"'src/data/emp.csv'\""
     ]
    }
   ],
   "source": [
    "duckdb.sql(\"CREATE TABLE Employees AS 'src/data/emp.csv'\")"
   ]
  },
  {
   "cell_type": "code",
   "execution_count": 5,
   "metadata": {},
   "outputs": [
    {
     "ename": "ParserException",
     "evalue": "Parser Error: syntax error at or near \"'//src//emp.csv'\"",
     "output_type": "error",
     "traceback": [
      "\u001b[1;31m---------------------------------------------------------------------------\u001b[0m",
      "\u001b[1;31mParserException\u001b[0m                           Traceback (most recent call last)",
      "Cell \u001b[1;32mIn[5], line 1\u001b[0m\n\u001b[1;32m----> 1\u001b[0m \u001b[43mduckdb\u001b[49m\u001b[38;5;241;43m.\u001b[39;49m\u001b[43msql\u001b[49m\u001b[43m(\u001b[49m\u001b[38;5;124;43m\"\u001b[39;49m\u001b[38;5;124;43mCREATE TABLE Employees AS \u001b[39;49m\u001b[38;5;124;43m'\u001b[39;49m\u001b[38;5;124;43m//src//emp.csv\u001b[39;49m\u001b[38;5;124;43m'\u001b[39;49m\u001b[38;5;124;43m\"\u001b[39;49m\u001b[43m)\u001b[49m\n",
      "File \u001b[1;32mc:\\Users\\rohit\\Desktop\\rohit\\python\\Python_Duck_Db\\venv\\lib\\site-packages\\duckdb\\__init__.py:457\u001b[0m, in \u001b[0;36msql\u001b[1;34m(query, **kwargs)\u001b[0m\n\u001b[0;32m    455\u001b[0m \u001b[38;5;28;01melse\u001b[39;00m:\n\u001b[0;32m    456\u001b[0m     conn \u001b[38;5;241m=\u001b[39m duckdb\u001b[38;5;241m.\u001b[39mconnect(\u001b[38;5;124m\"\u001b[39m\u001b[38;5;124m:default:\u001b[39m\u001b[38;5;124m\"\u001b[39m)\n\u001b[1;32m--> 457\u001b[0m \u001b[38;5;28;01mreturn\u001b[39;00m conn\u001b[38;5;241m.\u001b[39msql(query, \u001b[38;5;241m*\u001b[39m\u001b[38;5;241m*\u001b[39mkwargs)\n",
      "\u001b[1;31mParserException\u001b[0m: Parser Error: syntax error at or near \"'//src//emp.csv'\""
     ]
    }
   ],
   "source": [
    "duckdb.sql(\"CREATE TABLE Employees AS '//src//emp.csv'\")"
   ]
  },
  {
   "cell_type": "code",
   "execution_count": 6,
   "metadata": {},
   "outputs": [
    {
     "ename": "ParserException",
     "evalue": "Parser Error: syntax error at or near \"'.//src/data//emp.csv'\"",
     "output_type": "error",
     "traceback": [
      "\u001b[1;31m---------------------------------------------------------------------------\u001b[0m",
      "\u001b[1;31mParserException\u001b[0m                           Traceback (most recent call last)",
      "Cell \u001b[1;32mIn[6], line 1\u001b[0m\n\u001b[1;32m----> 1\u001b[0m \u001b[43mduckdb\u001b[49m\u001b[38;5;241;43m.\u001b[39;49m\u001b[43msql\u001b[49m\u001b[43m(\u001b[49m\u001b[38;5;124;43m\"\u001b[39;49m\u001b[38;5;124;43mCREATE TABLE Employees AS \u001b[39;49m\u001b[38;5;124;43m'\u001b[39;49m\u001b[38;5;124;43m.//src/data//emp.csv\u001b[39;49m\u001b[38;5;124;43m'\u001b[39;49m\u001b[38;5;124;43m\"\u001b[39;49m\u001b[43m)\u001b[49m\n",
      "File \u001b[1;32mc:\\Users\\rohit\\Desktop\\rohit\\python\\Python_Duck_Db\\venv\\lib\\site-packages\\duckdb\\__init__.py:457\u001b[0m, in \u001b[0;36msql\u001b[1;34m(query, **kwargs)\u001b[0m\n\u001b[0;32m    455\u001b[0m \u001b[38;5;28;01melse\u001b[39;00m:\n\u001b[0;32m    456\u001b[0m     conn \u001b[38;5;241m=\u001b[39m duckdb\u001b[38;5;241m.\u001b[39mconnect(\u001b[38;5;124m\"\u001b[39m\u001b[38;5;124m:default:\u001b[39m\u001b[38;5;124m\"\u001b[39m)\n\u001b[1;32m--> 457\u001b[0m \u001b[38;5;28;01mreturn\u001b[39;00m conn\u001b[38;5;241m.\u001b[39msql(query, \u001b[38;5;241m*\u001b[39m\u001b[38;5;241m*\u001b[39mkwargs)\n",
      "\u001b[1;31mParserException\u001b[0m: Parser Error: syntax error at or near \"'.//src/data//emp.csv'\""
     ]
    }
   ],
   "source": [
    "duckdb.sql(\"CREATE TABLE Employees AS './/src/data//emp.csv'\")"
   ]
  },
  {
   "cell_type": "code",
   "execution_count": 7,
   "metadata": {},
   "outputs": [
    {
     "ename": "ParserException",
     "evalue": "Parser Error: syntax error at or near \"'./src/data/emp.csv'\"",
     "output_type": "error",
     "traceback": [
      "\u001b[1;31m---------------------------------------------------------------------------\u001b[0m",
      "\u001b[1;31mParserException\u001b[0m                           Traceback (most recent call last)",
      "Cell \u001b[1;32mIn[7], line 1\u001b[0m\n\u001b[1;32m----> 1\u001b[0m \u001b[43mduckdb\u001b[49m\u001b[38;5;241;43m.\u001b[39;49m\u001b[43msql\u001b[49m\u001b[43m(\u001b[49m\u001b[38;5;124;43m\"\u001b[39;49m\u001b[38;5;124;43mCREATE TABLE employees AS \u001b[39;49m\u001b[38;5;124;43m'\u001b[39;49m\u001b[38;5;124;43m./src/data/emp.csv\u001b[39;49m\u001b[38;5;124;43m'\u001b[39;49m\u001b[38;5;124;43m\"\u001b[39;49m\u001b[43m)\u001b[49m\n",
      "File \u001b[1;32mc:\\Users\\rohit\\Desktop\\rohit\\python\\Python_Duck_Db\\venv\\lib\\site-packages\\duckdb\\__init__.py:457\u001b[0m, in \u001b[0;36msql\u001b[1;34m(query, **kwargs)\u001b[0m\n\u001b[0;32m    455\u001b[0m \u001b[38;5;28;01melse\u001b[39;00m:\n\u001b[0;32m    456\u001b[0m     conn \u001b[38;5;241m=\u001b[39m duckdb\u001b[38;5;241m.\u001b[39mconnect(\u001b[38;5;124m\"\u001b[39m\u001b[38;5;124m:default:\u001b[39m\u001b[38;5;124m\"\u001b[39m)\n\u001b[1;32m--> 457\u001b[0m \u001b[38;5;28;01mreturn\u001b[39;00m conn\u001b[38;5;241m.\u001b[39msql(query, \u001b[38;5;241m*\u001b[39m\u001b[38;5;241m*\u001b[39mkwargs)\n",
      "\u001b[1;31mParserException\u001b[0m: Parser Error: syntax error at or near \"'./src/data/emp.csv'\""
     ]
    }
   ],
   "source": [
    "duckdb.sql(\"CREATE TABLE employees AS './src/data/emp.csv'\")"
   ]
  },
  {
   "cell_type": "code",
   "execution_count": 8,
   "metadata": {},
   "outputs": [
    {
     "ename": "ParserException",
     "evalue": "Parser Error: syntax error at or near \"'src/data/emp.csv'\"",
     "output_type": "error",
     "traceback": [
      "\u001b[1;31m---------------------------------------------------------------------------\u001b[0m",
      "\u001b[1;31mParserException\u001b[0m                           Traceback (most recent call last)",
      "Cell \u001b[1;32mIn[8], line 1\u001b[0m\n\u001b[1;32m----> 1\u001b[0m \u001b[43mduckdb\u001b[49m\u001b[38;5;241;43m.\u001b[39;49m\u001b[43msql\u001b[49m\u001b[43m(\u001b[49m\u001b[38;5;124;43m\"\u001b[39;49m\u001b[38;5;124;43mCREATE TABLE employees AS \u001b[39;49m\u001b[38;5;124;43m'\u001b[39;49m\u001b[38;5;124;43msrc/data/emp.csv\u001b[39;49m\u001b[38;5;124;43m'\u001b[39;49m\u001b[38;5;124;43m\"\u001b[39;49m\u001b[43m)\u001b[49m\n",
      "File \u001b[1;32mc:\\Users\\rohit\\Desktop\\rohit\\python\\Python_Duck_Db\\venv\\lib\\site-packages\\duckdb\\__init__.py:457\u001b[0m, in \u001b[0;36msql\u001b[1;34m(query, **kwargs)\u001b[0m\n\u001b[0;32m    455\u001b[0m \u001b[38;5;28;01melse\u001b[39;00m:\n\u001b[0;32m    456\u001b[0m     conn \u001b[38;5;241m=\u001b[39m duckdb\u001b[38;5;241m.\u001b[39mconnect(\u001b[38;5;124m\"\u001b[39m\u001b[38;5;124m:default:\u001b[39m\u001b[38;5;124m\"\u001b[39m)\n\u001b[1;32m--> 457\u001b[0m \u001b[38;5;28;01mreturn\u001b[39;00m conn\u001b[38;5;241m.\u001b[39msql(query, \u001b[38;5;241m*\u001b[39m\u001b[38;5;241m*\u001b[39mkwargs)\n",
      "\u001b[1;31mParserException\u001b[0m: Parser Error: syntax error at or near \"'src/data/emp.csv'\""
     ]
    }
   ],
   "source": [
    "duckdb.sql(\"CREATE TABLE employees AS 'src/data/emp.csv'\")"
   ]
  },
  {
   "cell_type": "code",
   "execution_count": 9,
   "metadata": {},
   "outputs": [
    {
     "ename": "IOException",
     "evalue": "IO Error: The file \"c:\\users\\rohit\\desktop\\rohit\\python\\python_duck_db\\src\\data\\emp.csv\" exists, but it is not a valid DuckDB database file!",
     "output_type": "error",
     "traceback": [
      "\u001b[1;31m---------------------------------------------------------------------------\u001b[0m",
      "\u001b[1;31mIOException\u001b[0m                               Traceback (most recent call last)",
      "Cell \u001b[1;32mIn[9], line 1\u001b[0m\n\u001b[1;32m----> 1\u001b[0m \u001b[43mduckdb\u001b[49m\u001b[38;5;241;43m.\u001b[39;49m\u001b[43mconnect\u001b[49m\u001b[43m(\u001b[49m\u001b[38;5;124;43m'\u001b[39;49m\u001b[38;5;124;43msrc/data/emp.csv\u001b[39;49m\u001b[38;5;124;43m'\u001b[39;49m\u001b[43m)\u001b[49m\n",
      "\u001b[1;31mIOException\u001b[0m: IO Error: The file \"c:\\users\\rohit\\desktop\\rohit\\python\\python_duck_db\\src\\data\\emp.csv\" exists, but it is not a valid DuckDB database file!"
     ]
    }
   ],
   "source": [
    "duckdb.connect('src/data/emp.csv')"
   ]
  },
  {
   "cell_type": "code",
   "execution_count": 10,
   "metadata": {},
   "outputs": [
    {
     "data": {
      "text/plain": [
       "┌───────┬─────────┬───────┬──────────────┐\n",
       "│  id   │  name   │  age  │     job      │\n",
       "│ int64 │ varchar │ int64 │   varchar    │\n",
       "├───────┼─────────┼───────┼──────────────┤\n",
       "│     1 │ rohit   │    40 │ IT           │\n",
       "│     2 │ pammi   │    32 │ Advocate     │\n",
       "│     3 │ rohan   │     5 │ Students     │\n",
       "│     4 │ mike    │    40 │ Programmer   │\n",
       "│     5 │ bob     │    33 │ IT Assistant │\n",
       "└───────┴─────────┴───────┴──────────────┘"
      ]
     },
     "execution_count": 10,
     "metadata": {},
     "output_type": "execute_result"
    }
   ],
   "source": [
    "duckdb.sql('SELECT * from \"src/data/mydata2.csv\";')"
   ]
  },
  {
   "cell_type": "code",
   "execution_count": 11,
   "metadata": {},
   "outputs": [
    {
     "data": {
      "text/plain": [
       "┌───────┬────────────┬─────────────┬────────────────────────────┬────────────┬─────────────────────────┐\n",
       "│  id   │ first_name │  last_name  │           email            │   gender   │          city           │\n",
       "│ int64 │  varchar   │   varchar   │          varchar           │  varchar   │         varchar         │\n",
       "├───────┼────────────┼─────────────┼────────────────────────────┼────────────┼─────────────────────────┤\n",
       "│     1 │ Corny      │ O'Rudden    │ corudden0@apple.com        │ Female     │ Shaxi                   │\n",
       "│     2 │ Katherina  │ Cockshoot   │ kcockshoot1@exblog.jp      │ Female     │ Oslo                    │\n",
       "│     3 │ Dicky      │ Anespie     │ danespie2@bing.com         │ Male       │ Jarigue                 │\n",
       "│     4 │ Josias     │ Catterall   │ jcatterall3@friendfeed.com │ Male       │ Liangdang Chengguanzhen │\n",
       "│     5 │ Pauletta   │ Weymont     │ pweymont4@gizmodo.com      │ Female     │ Alvesta                 │\n",
       "│     6 │ Edgar      │ Adshed      │ eadshed5@ameblo.jp         │ Male       │ Iriga City              │\n",
       "│     7 │ Gwenette   │ Harbert     │ gharbert6@goo.ne.jp        │ Female     │ Dazhigu                 │\n",
       "│     8 │ Field      │ Jandera     │ fjandera7@quantcast.com    │ Male       │ Yenagoa                 │\n",
       "│     9 │ Silas      │ Ness        │ sness8@delicious.com       │ Male       │ Portland                │\n",
       "│    10 │ Giacopo    │ Reitenbach  │ greitenbach9@uiuc.edu      │ Male       │ Itapicuru               │\n",
       "│     · │   ·        │   ·         │         ·                  │  ·         │     ·                   │\n",
       "│     · │   ·        │   ·         │         ·                  │  ·         │     ·                   │\n",
       "│     · │   ·        │   ·         │         ·                  │  ·         │     ·                   │\n",
       "│   991 │ Ernest     │ Arbor       │ earborri@ox.ac.uk          │ Male       │ Angeghakot’             │\n",
       "│   992 │ Erica      │ Hatch       │ ehatchrj@ning.com          │ Female     │ Terek                   │\n",
       "│   993 │ Griz       │ Kenington   │ gkeningtonrk@github.io     │ Male       │ Klatovy                 │\n",
       "│   994 │ Thedrick   │ Handke      │ thandkerl@meetup.com       │ Male       │ Delareyville            │\n",
       "│   995 │ Silvana    │ Duckerin    │ sduckerinrm@tuttocitta.it  │ Non-binary │ La Virginia             │\n",
       "│   996 │ Judd       │ Palser      │ jpalserrn@desdev.cn        │ Male       │ Yuanping                │\n",
       "│   997 │ Odella     │ Swyer-Sexey │ oswyersexeyro@i2i.jp       │ Agender    │ Chuzhou                 │\n",
       "│   998 │ Ingaberg   │ Sterling    │ isterlingrp@nih.gov        │ Female     │ Kissimmee               │\n",
       "│   999 │ Alexis     │ Tart        │ atartrq@whitehouse.gov     │ Female     │ Maonon                  │\n",
       "│  1000 │ Adriena    │ Piddlesden  │ apiddlesdenrr@is.gd        │ Polygender │ Bīrganj                 │\n",
       "├───────┴────────────┴─────────────┴────────────────────────────┴────────────┴─────────────────────────┤\n",
       "│ 1000 rows (20 shown)                                                                       6 columns │\n",
       "└──────────────────────────────────────────────────────────────────────────────────────────────────────┘"
      ]
     },
     "execution_count": 11,
     "metadata": {},
     "output_type": "execute_result"
    }
   ],
   "source": [
    "duckdb.sql('SELECT * from \"src/data/emp.csv\";')"
   ]
  },
  {
   "cell_type": "code",
   "execution_count": 14,
   "metadata": {},
   "outputs": [],
   "source": [
    "result = duckdb.sql(\"CREATE TABLE employee2 AS SELECT * FROM 'src/data/emp.csv'\")"
   ]
  },
  {
   "cell_type": "code",
   "execution_count": 15,
   "metadata": {},
   "outputs": [
    {
     "ename": "CatalogException",
     "evalue": "Catalog Error: Table with name employees2 does not exist!\nDid you mean \"employee2\"?",
     "output_type": "error",
     "traceback": [
      "\u001b[1;31m---------------------------------------------------------------------------\u001b[0m",
      "\u001b[1;31mCatalogException\u001b[0m                          Traceback (most recent call last)",
      "Cell \u001b[1;32mIn[15], line 1\u001b[0m\n\u001b[1;32m----> 1\u001b[0m \u001b[43mduckdb\u001b[49m\u001b[38;5;241;43m.\u001b[39;49m\u001b[43msql\u001b[49m\u001b[43m(\u001b[49m\u001b[38;5;124;43m'\u001b[39;49m\u001b[38;5;124;43mSELECT * FROM employees2\u001b[39;49m\u001b[38;5;124;43m'\u001b[39;49m\u001b[43m)\u001b[49m\n",
      "File \u001b[1;32mc:\\Users\\rohit\\Desktop\\rohit\\python\\Python_Duck_Db\\venv\\lib\\site-packages\\duckdb\\__init__.py:457\u001b[0m, in \u001b[0;36msql\u001b[1;34m(query, **kwargs)\u001b[0m\n\u001b[0;32m    455\u001b[0m \u001b[38;5;28;01melse\u001b[39;00m:\n\u001b[0;32m    456\u001b[0m     conn \u001b[38;5;241m=\u001b[39m duckdb\u001b[38;5;241m.\u001b[39mconnect(\u001b[38;5;124m\"\u001b[39m\u001b[38;5;124m:default:\u001b[39m\u001b[38;5;124m\"\u001b[39m)\n\u001b[1;32m--> 457\u001b[0m \u001b[38;5;28;01mreturn\u001b[39;00m conn\u001b[38;5;241m.\u001b[39msql(query, \u001b[38;5;241m*\u001b[39m\u001b[38;5;241m*\u001b[39mkwargs)\n",
      "\u001b[1;31mCatalogException\u001b[0m: Catalog Error: Table with name employees2 does not exist!\nDid you mean \"employee2\"?"
     ]
    }
   ],
   "source": [
    "duckdb.sql('SELECT * FROM employees2')"
   ]
  },
  {
   "cell_type": "code",
   "execution_count": 16,
   "metadata": {},
   "outputs": [
    {
     "data": {
      "text/plain": [
       "┌───────┬────────────┬─────────────┬────────────────────────────┬────────────┬─────────────────────────┐\n",
       "│  id   │ first_name │  last_name  │           email            │   gender   │          city           │\n",
       "│ int64 │  varchar   │   varchar   │          varchar           │  varchar   │         varchar         │\n",
       "├───────┼────────────┼─────────────┼────────────────────────────┼────────────┼─────────────────────────┤\n",
       "│     1 │ Corny      │ O'Rudden    │ corudden0@apple.com        │ Female     │ Shaxi                   │\n",
       "│     2 │ Katherina  │ Cockshoot   │ kcockshoot1@exblog.jp      │ Female     │ Oslo                    │\n",
       "│     3 │ Dicky      │ Anespie     │ danespie2@bing.com         │ Male       │ Jarigue                 │\n",
       "│     4 │ Josias     │ Catterall   │ jcatterall3@friendfeed.com │ Male       │ Liangdang Chengguanzhen │\n",
       "│     5 │ Pauletta   │ Weymont     │ pweymont4@gizmodo.com      │ Female     │ Alvesta                 │\n",
       "│     6 │ Edgar      │ Adshed      │ eadshed5@ameblo.jp         │ Male       │ Iriga City              │\n",
       "│     7 │ Gwenette   │ Harbert     │ gharbert6@goo.ne.jp        │ Female     │ Dazhigu                 │\n",
       "│     8 │ Field      │ Jandera     │ fjandera7@quantcast.com    │ Male       │ Yenagoa                 │\n",
       "│     9 │ Silas      │ Ness        │ sness8@delicious.com       │ Male       │ Portland                │\n",
       "│    10 │ Giacopo    │ Reitenbach  │ greitenbach9@uiuc.edu      │ Male       │ Itapicuru               │\n",
       "│     · │   ·        │   ·         │         ·                  │  ·         │     ·                   │\n",
       "│     · │   ·        │   ·         │         ·                  │  ·         │     ·                   │\n",
       "│     · │   ·        │   ·         │         ·                  │  ·         │     ·                   │\n",
       "│   991 │ Ernest     │ Arbor       │ earborri@ox.ac.uk          │ Male       │ Angeghakot’             │\n",
       "│   992 │ Erica      │ Hatch       │ ehatchrj@ning.com          │ Female     │ Terek                   │\n",
       "│   993 │ Griz       │ Kenington   │ gkeningtonrk@github.io     │ Male       │ Klatovy                 │\n",
       "│   994 │ Thedrick   │ Handke      │ thandkerl@meetup.com       │ Male       │ Delareyville            │\n",
       "│   995 │ Silvana    │ Duckerin    │ sduckerinrm@tuttocitta.it  │ Non-binary │ La Virginia             │\n",
       "│   996 │ Judd       │ Palser      │ jpalserrn@desdev.cn        │ Male       │ Yuanping                │\n",
       "│   997 │ Odella     │ Swyer-Sexey │ oswyersexeyro@i2i.jp       │ Agender    │ Chuzhou                 │\n",
       "│   998 │ Ingaberg   │ Sterling    │ isterlingrp@nih.gov        │ Female     │ Kissimmee               │\n",
       "│   999 │ Alexis     │ Tart        │ atartrq@whitehouse.gov     │ Female     │ Maonon                  │\n",
       "│  1000 │ Adriena    │ Piddlesden  │ apiddlesdenrr@is.gd        │ Polygender │ Bīrganj                 │\n",
       "├───────┴────────────┴─────────────┴────────────────────────────┴────────────┴─────────────────────────┤\n",
       "│ 1000 rows (20 shown)                                                                       6 columns │\n",
       "└──────────────────────────────────────────────────────────────────────────────────────────────────────┘"
      ]
     },
     "execution_count": 16,
     "metadata": {},
     "output_type": "execute_result"
    }
   ],
   "source": [
    "duckdb.sql('SELECT * FROM employee2')"
   ]
  },
  {
   "cell_type": "code",
   "execution_count": 17,
   "metadata": {},
   "outputs": [
    {
     "data": {
      "text/plain": [
       "┌─────────────┬──────────────┐\n",
       "│   gender    │ count_star() │\n",
       "│   varchar   │    int64     │\n",
       "├─────────────┼──────────────┤\n",
       "│ Bigender    │           18 │\n",
       "│ Male        │          450 │\n",
       "│ Agender     │           18 │\n",
       "│ Genderqueer │           20 │\n",
       "│ Polygender  │           15 │\n",
       "│ Non-binary  │           17 │\n",
       "│ Genderfluid │           15 │\n",
       "│ Female      │          447 │\n",
       "└─────────────┴──────────────┘"
      ]
     },
     "execution_count": 17,
     "metadata": {},
     "output_type": "execute_result"
    }
   ],
   "source": [
    "duckdb.sql('SELECT gender,count(*) FROM employee2 group by gender')"
   ]
  },
  {
   "cell_type": "code",
   "execution_count": 18,
   "metadata": {},
   "outputs": [
    {
     "ename": "BinderException",
     "evalue": "Binder Error: Referenced column \"male\" not found in FROM clause!\nCandidate bindings: \"employee2.email\"",
     "output_type": "error",
     "traceback": [
      "\u001b[1;31m---------------------------------------------------------------------------\u001b[0m",
      "\u001b[1;31mBinderException\u001b[0m                           Traceback (most recent call last)",
      "Cell \u001b[1;32mIn[18], line 1\u001b[0m\n\u001b[1;32m----> 1\u001b[0m \u001b[43mduckdb\u001b[49m\u001b[38;5;241;43m.\u001b[39;49m\u001b[43msql\u001b[49m\u001b[43m(\u001b[49m\u001b[38;5;124;43m'\u001b[39;49m\u001b[38;5;124;43mSELECT gender,count(*) FROM employee2 where gender=male group by gender\u001b[39;49m\u001b[38;5;124;43m'\u001b[39;49m\u001b[43m)\u001b[49m\n",
      "File \u001b[1;32mc:\\Users\\rohit\\Desktop\\rohit\\python\\Python_Duck_Db\\venv\\lib\\site-packages\\duckdb\\__init__.py:457\u001b[0m, in \u001b[0;36msql\u001b[1;34m(query, **kwargs)\u001b[0m\n\u001b[0;32m    455\u001b[0m \u001b[38;5;28;01melse\u001b[39;00m:\n\u001b[0;32m    456\u001b[0m     conn \u001b[38;5;241m=\u001b[39m duckdb\u001b[38;5;241m.\u001b[39mconnect(\u001b[38;5;124m\"\u001b[39m\u001b[38;5;124m:default:\u001b[39m\u001b[38;5;124m\"\u001b[39m)\n\u001b[1;32m--> 457\u001b[0m \u001b[38;5;28;01mreturn\u001b[39;00m conn\u001b[38;5;241m.\u001b[39msql(query, \u001b[38;5;241m*\u001b[39m\u001b[38;5;241m*\u001b[39mkwargs)\n",
      "\u001b[1;31mBinderException\u001b[0m: Binder Error: Referenced column \"male\" not found in FROM clause!\nCandidate bindings: \"employee2.email\""
     ]
    }
   ],
   "source": [
    "duckdb.sql('SELECT gender,count(*) FROM employee2 where gender=male group by gender')"
   ]
  },
  {
   "cell_type": "code",
   "execution_count": 19,
   "metadata": {},
   "outputs": [
    {
     "ename": "BinderException",
     "evalue": "Binder Error: Referenced column \"Male\" not found in FROM clause!\nCandidate bindings: \"employee2.email\"",
     "output_type": "error",
     "traceback": [
      "\u001b[1;31m---------------------------------------------------------------------------\u001b[0m",
      "\u001b[1;31mBinderException\u001b[0m                           Traceback (most recent call last)",
      "Cell \u001b[1;32mIn[19], line 1\u001b[0m\n\u001b[1;32m----> 1\u001b[0m \u001b[43mduckdb\u001b[49m\u001b[38;5;241;43m.\u001b[39;49m\u001b[43msql\u001b[49m\u001b[43m(\u001b[49m\u001b[38;5;124;43m'\u001b[39;49m\u001b[38;5;124;43mSELECT gender,count(*) FROM employee2 where gender=Male group by gender\u001b[39;49m\u001b[38;5;124;43m'\u001b[39;49m\u001b[43m)\u001b[49m\n",
      "File \u001b[1;32mc:\\Users\\rohit\\Desktop\\rohit\\python\\Python_Duck_Db\\venv\\lib\\site-packages\\duckdb\\__init__.py:457\u001b[0m, in \u001b[0;36msql\u001b[1;34m(query, **kwargs)\u001b[0m\n\u001b[0;32m    455\u001b[0m \u001b[38;5;28;01melse\u001b[39;00m:\n\u001b[0;32m    456\u001b[0m     conn \u001b[38;5;241m=\u001b[39m duckdb\u001b[38;5;241m.\u001b[39mconnect(\u001b[38;5;124m\"\u001b[39m\u001b[38;5;124m:default:\u001b[39m\u001b[38;5;124m\"\u001b[39m)\n\u001b[1;32m--> 457\u001b[0m \u001b[38;5;28;01mreturn\u001b[39;00m conn\u001b[38;5;241m.\u001b[39msql(query, \u001b[38;5;241m*\u001b[39m\u001b[38;5;241m*\u001b[39mkwargs)\n",
      "\u001b[1;31mBinderException\u001b[0m: Binder Error: Referenced column \"Male\" not found in FROM clause!\nCandidate bindings: \"employee2.email\""
     ]
    }
   ],
   "source": [
    "duckdb.sql('SELECT gender,count(*) FROM employee2 where gender=Male group by gender')"
   ]
  },
  {
   "cell_type": "code",
   "execution_count": 20,
   "metadata": {},
   "outputs": [
    {
     "ename": "BinderException",
     "evalue": "Binder Error: Referenced column \"male\" not found in FROM clause!\nCandidate bindings: \"employee2.email\"",
     "output_type": "error",
     "traceback": [
      "\u001b[1;31m---------------------------------------------------------------------------\u001b[0m",
      "\u001b[1;31mBinderException\u001b[0m                           Traceback (most recent call last)",
      "Cell \u001b[1;32mIn[20], line 1\u001b[0m\n\u001b[1;32m----> 1\u001b[0m \u001b[43mduckdb\u001b[49m\u001b[38;5;241;43m.\u001b[39;49m\u001b[43msql\u001b[49m\u001b[43m(\u001b[49m\u001b[38;5;124;43m'\u001b[39;49m\u001b[38;5;124;43mSELECT gender,count(*) FROM employee2 where employee2.gender=male group by gender\u001b[39;49m\u001b[38;5;124;43m'\u001b[39;49m\u001b[43m)\u001b[49m\n",
      "File \u001b[1;32mc:\\Users\\rohit\\Desktop\\rohit\\python\\Python_Duck_Db\\venv\\lib\\site-packages\\duckdb\\__init__.py:457\u001b[0m, in \u001b[0;36msql\u001b[1;34m(query, **kwargs)\u001b[0m\n\u001b[0;32m    455\u001b[0m \u001b[38;5;28;01melse\u001b[39;00m:\n\u001b[0;32m    456\u001b[0m     conn \u001b[38;5;241m=\u001b[39m duckdb\u001b[38;5;241m.\u001b[39mconnect(\u001b[38;5;124m\"\u001b[39m\u001b[38;5;124m:default:\u001b[39m\u001b[38;5;124m\"\u001b[39m)\n\u001b[1;32m--> 457\u001b[0m \u001b[38;5;28;01mreturn\u001b[39;00m conn\u001b[38;5;241m.\u001b[39msql(query, \u001b[38;5;241m*\u001b[39m\u001b[38;5;241m*\u001b[39mkwargs)\n",
      "\u001b[1;31mBinderException\u001b[0m: Binder Error: Referenced column \"male\" not found in FROM clause!\nCandidate bindings: \"employee2.email\""
     ]
    }
   ],
   "source": [
    "duckdb.sql('SELECT gender,count(*) FROM employee2 where employee2.gender=male group by gender')"
   ]
  },
  {
   "cell_type": "code",
   "execution_count": null,
   "metadata": {},
   "outputs": [],
   "source": []
  }
 ],
 "metadata": {
  "kernelspec": {
   "display_name": "venv",
   "language": "python",
   "name": "python3"
  },
  "language_info": {
   "codemirror_mode": {
    "name": "ipython",
    "version": 3
   },
   "file_extension": ".py",
   "mimetype": "text/x-python",
   "name": "python",
   "nbconvert_exporter": "python",
   "pygments_lexer": "ipython3",
   "version": "3.10.7"
  }
 },
 "nbformat": 4,
 "nbformat_minor": 2
}
